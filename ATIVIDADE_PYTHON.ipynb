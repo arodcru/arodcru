{
  "nbformat": 4,
  "nbformat_minor": 0,
  "metadata": {
    "colab": {
      "provenance": [],
      "authorship_tag": "ABX9TyPjmU3BoOMN06hBKKkQWRCA",
      "include_colab_link": true
    },
    "kernelspec": {
      "name": "python3",
      "display_name": "Python 3"
    },
    "language_info": {
      "name": "python"
    }
  },
  "cells": [
    {
      "cell_type": "markdown",
      "metadata": {
        "id": "view-in-github",
        "colab_type": "text"
      },
      "source": [
        "<a href=\"https://colab.research.google.com/github/arodcru/arodcru/blob/main/ATIVIDADE_PYTHON.ipynb\" target=\"_parent\"><img src=\"https://colab.research.google.com/assets/colab-badge.svg\" alt=\"Open In Colab\"/></a>"
      ]
    },
    {
      "cell_type": "code",
      "execution_count": null,
      "metadata": {
        "id": "N9ocUojwoEoH"
      },
      "outputs": [],
      "source": [
        "#CONECTANDO NO BANCO DE BADOS\n",
        "import sqlite3\n",
        "\n",
        "#CRIANDO UM BANCO DE DADOS\n",
        "conexao = sqlite3.connect('vendas.db')\n",
        "\n",
        "#CRIANDO O CURSOR\n",
        "cursor = conexao.cursor()\n",
        "\n"
      ]
    },
    {
      "cell_type": "code",
      "source": [
        "#CRIANDO A TABELA SEM DADOS\n",
        "cursor.execute(\"\"\"\n",
        "  CREATE TABLE vendas (\n",
        "   id_vendas INTEGER PRIMARY KEY AUTOINCREMENT,\n",
        "   data_vendas DATE,\n",
        "   produto TEXT,\n",
        "   categoria TEXT,\n",
        "   valor_vendas REAL\n",
        "  )\n",
        "\"\"\")"
      ],
      "metadata": {
        "colab": {
          "base_uri": "https://localhost:8080/"
        },
        "id": "_DX7p1GwpBEV",
        "outputId": "dd834655-5d4e-47be-c713-8fae772b487c"
      },
      "execution_count": null,
      "outputs": [
        {
          "output_type": "execute_result",
          "data": {
            "text/plain": [
              "<sqlite3.Cursor at 0x7ed40452e140>"
            ]
          },
          "metadata": {},
          "execution_count": 6
        }
      ]
    },
    {
      "cell_type": "code",
      "source": [
        "#INSERINDO DADOS NA TABELA VENDAS\n",
        "cursor.execute(\"\"\"\n",
        "  INSERT INTO vendas ( data_vendas,produto, categoria, valor_vendas ) VALUES\n",
        "    ('2025-08-24','Produto A','Eletronico', 1500.00),\n",
        "    ('2025-08-15','Produto B','Roupas', 50.00),\n",
        "    ('2025-08-25','Produto C','Eletronico', 1500.00),\n",
        "    ('2025-08-15','Produto D','Livros', 200.00),\n",
        "    ('2025-08-10','Produto E','Roupas', 100.00),\n",
        "    ('2025-08-08','Produto F','Eletronico', 1500.00),\n",
        "    ('2025-05-24','Produto G','livros', 150.00),\n",
        "    ('2025-02-20','Produto H','Roupas', 180.00),\n",
        "    ('2025-01-15','Produto I','Livros', 100.00);\n",
        "\n",
        "\"\"\")"
      ],
      "metadata": {
        "colab": {
          "base_uri": "https://localhost:8080/"
        },
        "id": "4LqcbOF3q58u",
        "outputId": "39f64108-4d13-4daf-c55c-15fc654d3103"
      },
      "execution_count": null,
      "outputs": [
        {
          "output_type": "execute_result",
          "data": {
            "text/plain": [
              "<sqlite3.Cursor at 0x7ed40452e140>"
            ]
          },
          "metadata": {},
          "execution_count": 10
        }
      ]
    },
    {
      "cell_type": "code",
      "source": [
        "#CONFIRMAR A MUDANÇA\n",
        "conexao.commit()"
      ],
      "metadata": {
        "id": "AtKl5t3hsC7X"
      },
      "execution_count": null,
      "outputs": []
    }
  ]
}