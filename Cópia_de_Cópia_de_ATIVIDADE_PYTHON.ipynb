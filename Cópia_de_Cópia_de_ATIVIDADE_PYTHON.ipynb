{
  "nbformat": 4,
  "nbformat_minor": 0,
  "metadata": {
    "colab": {
      "provenance": [],
      "authorship_tag": "ABX9TyOQPCSXz1twItREJLzHL5nR",
      "include_colab_link": true
    },
    "kernelspec": {
      "name": "python3",
      "display_name": "Python 3"
    },
    "language_info": {
      "name": "python"
    }
  },
  "cells": [
    {
      "cell_type": "markdown",
      "metadata": {
        "id": "view-in-github",
        "colab_type": "text"
      },
      "source": [
        "<a href=\"https://colab.research.google.com/github/arodcru/arodcru/blob/main/C%C3%B3pia_de_C%C3%B3pia_de_ATIVIDADE_PYTHON.ipynb\" target=\"_parent\"><img src=\"https://colab.research.google.com/assets/colab-badge.svg\" alt=\"Open In Colab\"/></a>"
      ]
    },
    {
      "cell_type": "code",
      "execution_count": 24,
      "metadata": {
        "id": "N9ocUojwoEoH"
      },
      "outputs": [],
      "source": [
        "#CONECTANDO NO BANCO DE BADOS\n",
        "import sqlite3\n",
        "\n",
        "#CONECTANDO AO PANDAS\n",
        "import pandas as pd\n",
        "\n",
        "\n",
        "#CRIANDO UM BANCO DE DADOS\n",
        "conexao = sqlite3.connect('vendas.db')\n",
        "\n",
        "#CRIANDO O CURSOR\n",
        "cursor = conexao.cursor()\n",
        "\n"
      ]
    },
    {
      "cell_type": "code",
      "source": [
        "#CRIANDO A TABELA SEM DADOS\n",
        "cursor.execute(\"\"\"\n",
        "  CREATE TABLE vendas (\n",
        "   id_vendas INTEGER PRIMARY KEY AUTOINCREMENT,\n",
        "   data_vendas DATE,\n",
        "   produto TEXT,\n",
        "   categoria TEXT,\n",
        "   valor_vendas REAL\n",
        "  )\n",
        "\"\"\")"
      ],
      "metadata": {
        "colab": {
          "base_uri": "https://localhost:8080/"
        },
        "id": "_DX7p1GwpBEV",
        "outputId": "98217abc-d394-463f-8644-dce11d40b7df"
      },
      "execution_count": 7,
      "outputs": [
        {
          "output_type": "execute_result",
          "data": {
            "text/plain": [
              "<sqlite3.Cursor at 0x7a7c6f19c640>"
            ]
          },
          "metadata": {},
          "execution_count": 7
        }
      ]
    },
    {
      "cell_type": "code",
      "source": [
        "#INSERINDO DADOS NA TABELA VENDAS\n",
        "cursor.execute(\"\"\"\n",
        "  INSERT INTO vendas ( data_vendas,produto, categoria, valor_vendas ) VALUES\n",
        "    ('2025-08-24','Produto A','Eletronico', 1500.00),\n",
        "    ('2025-08-15','Produto B','Roupas', 50.00),\n",
        "    ('2025-08-25','Produto C','Eletronico', 1500.00),\n",
        "    ('2025-08-15','Produto D','Livros', 200.00),\n",
        "    ('2025-08-10','Produto E','Roupas', 100.00),\n",
        "    ('2025-08-08','Produto F','Eletronico', 1500.00),\n",
        "    ('2025-05-24','Produto G','livros', 150.00),\n",
        "    ('2025-02-20','Produto H','Roupas', 180.00),\n",
        "    ('2025-01-15','Produto I','Livros', 100.00);\n",
        "\n",
        "\"\"\")"
      ],
      "metadata": {
        "colab": {
          "base_uri": "https://localhost:8080/"
        },
        "id": "4LqcbOF3q58u",
        "outputId": "df06a168-1dd8-458c-d979-4dcb82eec7a1"
      },
      "execution_count": 8,
      "outputs": [
        {
          "output_type": "execute_result",
          "data": {
            "text/plain": [
              "<sqlite3.Cursor at 0x7a7c6f19c640>"
            ]
          },
          "metadata": {},
          "execution_count": 8
        }
      ]
    },
    {
      "cell_type": "code",
      "source": [
        "#CONFIRMAR A MUDANÇA\n",
        "conexao.commit()"
      ],
      "metadata": {
        "id": "AtKl5t3hsC7X"
      },
      "execution_count": 9,
      "outputs": []
    },
    {
      "cell_type": "code",
      "source": [
        "# LENDO A TABELA  PARA O PANDAS\n",
        "df = pd.read_sql(\"SELECT * FROM vendas\", conexao)\n",
        "print(df)\n"
      ],
      "metadata": {
        "colab": {
          "base_uri": "https://localhost:8080/"
        },
        "id": "lChBFQUvyH98",
        "outputId": "932b633f-dd87-45c8-a46d-cf85bd148958"
      },
      "execution_count": 13,
      "outputs": [
        {
          "output_type": "stream",
          "name": "stdout",
          "text": [
            "   id_vendas data_vendas    produto   categoria  valor_vendas\n",
            "0          1  2025-08-24  Produto A  Eletronico        1500.0\n",
            "1          2  2025-08-15  Produto B      Roupas          50.0\n",
            "2          3  2025-08-25  Produto C  Eletronico        1500.0\n",
            "3          4  2025-08-15  Produto D      Livros         200.0\n",
            "4          5  2025-08-10  Produto E      Roupas         100.0\n",
            "5          6  2025-08-08  Produto F  Eletronico        1500.0\n",
            "6          7  2025-05-24  Produto G      livros         150.0\n",
            "7          8  2025-02-20  Produto H      Roupas         180.0\n",
            "8          9  2025-01-15  Produto I      Livros         100.0\n"
          ]
        }
      ]
    },
    {
      "cell_type": "code",
      "source": [
        "df['valor_vendas'].sum()\n"
      ],
      "metadata": {
        "colab": {
          "base_uri": "https://localhost:8080/"
        },
        "id": "QYtm2frL1K78",
        "outputId": "49f462eb-699b-41f7-8f08-90412bd7cbea"
      },
      "execution_count": 14,
      "outputs": [
        {
          "output_type": "execute_result",
          "data": {
            "text/plain": [
              "np.float64(5280.0)"
            ]
          },
          "metadata": {},
          "execution_count": 14
        }
      ]
    },
    {
      "cell_type": "code",
      "source": [
        "df['valor_vendas'].mean()"
      ],
      "metadata": {
        "colab": {
          "base_uri": "https://localhost:8080/"
        },
        "id": "U-oVkaZG3LrM",
        "outputId": "c88a44ab-2734-422c-89c2-7986982ea71d"
      },
      "execution_count": 15,
      "outputs": [
        {
          "output_type": "execute_result",
          "data": {
            "text/plain": [
              "np.float64(586.6666666666666)"
            ]
          },
          "metadata": {},
          "execution_count": 15
        }
      ]
    },
    {
      "cell_type": "code",
      "source": [
        "df.groupby('categoria')['valor_vendas'].sum()"
      ],
      "metadata": {
        "colab": {
          "base_uri": "https://localhost:8080/",
          "height": 241
        },
        "id": "32EsiK3f3O30",
        "outputId": "25f9fac8-e7d5-4b9e-e20f-2f507d811e5f"
      },
      "execution_count": 16,
      "outputs": [
        {
          "output_type": "execute_result",
          "data": {
            "text/plain": [
              "categoria\n",
              "Eletronico    4500.0\n",
              "Livros         300.0\n",
              "Roupas         330.0\n",
              "livros         150.0\n",
              "Name: valor_vendas, dtype: float64"
            ],
            "text/html": [
              "<div>\n",
              "<style scoped>\n",
              "    .dataframe tbody tr th:only-of-type {\n",
              "        vertical-align: middle;\n",
              "    }\n",
              "\n",
              "    .dataframe tbody tr th {\n",
              "        vertical-align: top;\n",
              "    }\n",
              "\n",
              "    .dataframe thead th {\n",
              "        text-align: right;\n",
              "    }\n",
              "</style>\n",
              "<table border=\"1\" class=\"dataframe\">\n",
              "  <thead>\n",
              "    <tr style=\"text-align: right;\">\n",
              "      <th></th>\n",
              "      <th>valor_vendas</th>\n",
              "    </tr>\n",
              "    <tr>\n",
              "      <th>categoria</th>\n",
              "      <th></th>\n",
              "    </tr>\n",
              "  </thead>\n",
              "  <tbody>\n",
              "    <tr>\n",
              "      <th>Eletronico</th>\n",
              "      <td>4500.0</td>\n",
              "    </tr>\n",
              "    <tr>\n",
              "      <th>Livros</th>\n",
              "      <td>300.0</td>\n",
              "    </tr>\n",
              "    <tr>\n",
              "      <th>Roupas</th>\n",
              "      <td>330.0</td>\n",
              "    </tr>\n",
              "    <tr>\n",
              "      <th>livros</th>\n",
              "      <td>150.0</td>\n",
              "    </tr>\n",
              "  </tbody>\n",
              "</table>\n",
              "</div><br><label><b>dtype:</b> float64</label>"
            ]
          },
          "metadata": {},
          "execution_count": 16
        }
      ]
    },
    {
      "cell_type": "code",
      "source": [
        "df['data_vendas'] = pd.to_datetime(df['data_vendas'])\n",
        "\n",
        "# Vendas por mês\n",
        "vendas_por_mes = df.groupby(df['data_vendas'].dt.to_period('M'))['valor_vendas'].sum()"
      ],
      "metadata": {
        "colab": {
          "base_uri": "https://localhost:8080/",
          "height": 241
        },
        "id": "Vq_rt-eY3SQU",
        "outputId": "2216a613-6c4c-4697-86a9-9220a497c21a"
      },
      "execution_count": 18,
      "outputs": [
        {
          "output_type": "execute_result",
          "data": {
            "text/plain": [
              "data_vendas\n",
              "2025-01     100.0\n",
              "2025-02     180.0\n",
              "2025-05     150.0\n",
              "2025-08    4850.0\n",
              "Freq: M, Name: valor_vendas, dtype: float64"
            ],
            "text/html": [
              "<div>\n",
              "<style scoped>\n",
              "    .dataframe tbody tr th:only-of-type {\n",
              "        vertical-align: middle;\n",
              "    }\n",
              "\n",
              "    .dataframe tbody tr th {\n",
              "        vertical-align: top;\n",
              "    }\n",
              "\n",
              "    .dataframe thead th {\n",
              "        text-align: right;\n",
              "    }\n",
              "</style>\n",
              "<table border=\"1\" class=\"dataframe\">\n",
              "  <thead>\n",
              "    <tr style=\"text-align: right;\">\n",
              "      <th></th>\n",
              "      <th>valor_vendas</th>\n",
              "    </tr>\n",
              "    <tr>\n",
              "      <th>data_vendas</th>\n",
              "      <th></th>\n",
              "    </tr>\n",
              "  </thead>\n",
              "  <tbody>\n",
              "    <tr>\n",
              "      <th>2025-01</th>\n",
              "      <td>100.0</td>\n",
              "    </tr>\n",
              "    <tr>\n",
              "      <th>2025-02</th>\n",
              "      <td>180.0</td>\n",
              "    </tr>\n",
              "    <tr>\n",
              "      <th>2025-05</th>\n",
              "      <td>150.0</td>\n",
              "    </tr>\n",
              "    <tr>\n",
              "      <th>2025-08</th>\n",
              "      <td>4850.0</td>\n",
              "    </tr>\n",
              "  </tbody>\n",
              "</table>\n",
              "</div><br><label><b>dtype:</b> float64</label>"
            ]
          },
          "metadata": {},
          "execution_count": 18
        }
      ]
    },
    {
      "cell_type": "code",
      "source": [
        "import matplotlib.pyplot as plt\n",
        "\n",
        "# Vendas por categoria\n",
        "df.groupby('categoria')['valor_vendas'].sum().plot(kind='bar')\n",
        "plt.title(\"Vendas por Categoria\")\n",
        "plt.ylabel(\"Valor Total\")\n",
        "plt.show()"
      ],
      "metadata": {
        "colab": {
          "base_uri": "https://localhost:8080/",
          "height": 527
        },
        "id": "czJE0OMB3Zo0",
        "outputId": "c2fe7a4b-5357-4995-842f-aa030027413c"
      },
      "execution_count": 22,
      "outputs": [
        {
          "output_type": "display_data",
          "data": {
            "text/plain": [
              "<Figure size 640x480 with 1 Axes>"
            ],
            "image/png": "[encoded data removed]"
          },
          "metadata": {}
        }
      ]
    },
    {
      "cell_type": "code",
      "source": [
        "import seaborn as sns\n",
        "plt.figure(figsize=(8,5))  # Define o tamanho do gráfico\n",
        "sns.barplot(data=df, x=\"categoria\", y=\"valor_vendas\", estimator=sum)\n",
        "plt.title(\"Total de Vendas por Categoria\")  # Título\n",
        "plt.xlabel(\"Categoria\")                     # Eixo X\n",
        "plt.ylabel(\"Valor Total de Vendas\")         # Eixo Y\n",
        "plt.show()"
      ],
      "metadata": {
        "colab": {
          "base_uri": "https://localhost:8080/",
          "height": 487
        },
        "id": "dmyVwvaU6MW7",
        "outputId": "12a57d75-b174-4254-8272-8315d4e18fc6"
      },
      "execution_count": 23,
      "outputs": [
        {
          "output_type": "display_data",
          "data": {
            "text/plain": [
              "<Figure size 800x500 with 1 Axes>"
            ],
            "image/png": "[encoded data removed]"
          },
          "metadata": {}
        }
      ]
    }
  ]
}