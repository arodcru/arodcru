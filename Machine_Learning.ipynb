{
  "nbformat": 4,
  "nbformat_minor": 0,
  "metadata": {
    "colab": {
      "provenance": [],
      "authorship_tag": "ABX9TyOSAsuDWMeWIBgwYZSPXVQ5",
      "include_colab_link": true
    },
    "kernelspec": {
      "name": "python3",
      "display_name": "Python 3"
    },
    "language_info": {
      "name": "python"
    }
  },
  "cells": [
    {
      "cell_type": "markdown",
      "metadata": {
        "id": "view-in-github",
        "colab_type": "text"
      },
      "source": [
        "<a href=\"https://colab.research.google.com/github/arodcru/arodcru/blob/main/Machine_Learning.ipynb\" target=\"_parent\"><img src=\"https://colab.research.google.com/assets/colab-badge.svg\" alt=\"Open In Colab\"/></a>"
      ]
    },
    {
      "cell_type": "code",
      "execution_count": 1,
      "metadata": {
        "id": "6jL5d0Gs1UA7"
      },
      "outputs": [],
      "source": [
        "# Passo 1: Importar Bibliotecas e Carregar Dados\n",
        "import tensorflow as tf\n",
        "import pandas as pd\n",
        "from sklearn.datasets import load_iris\n",
        "from sklearn.model_selection import train_test_split\n",
        "from sklearn.preprocessing import StandardScaler\n",
        "\n",
        "# Carregar conjunto de dados Iris\n",
        "iris = load_iris()\n",
        "X = iris.data   # features\n",
        "y = iris.target # rótulos (0, 1 ou 2 -> 3 tipos de flores)"
      ]
    },
    {
      "cell_type": "code",
      "source": [
        "# Passo 2: Pré-processamento dos Dados\n",
        "# Dividir dados em treino e teste (80% treino, 20% teste)\n",
        "X_train, X_test, y_train, y_test = train_test_split(X, y, test_size=0.2, random_state=42)\n",
        "\n",
        "# Normalizar os dados (muito importante para redes neurais)\n",
        "scaler = StandardScaler()\n",
        "X_train = scaler.fit_transform(X_train)\n",
        "X_test = scaler.transform(X_test)\n"
      ],
      "metadata": {
        "id": "JSLNZv6p1jAx"
      },
      "execution_count": 2,
      "outputs": []
    },
    {
      "cell_type": "code",
      "source": [
        "# Passo 3: Construir o Modelo (Rede Neural Simples)\n",
        "# Sequential -> modelo linear (camada após camada)\n",
        "model = tf.keras.models.Sequential([\n",
        "    tf.keras.layers.Dense(10, activation='relu', input_shape=(X_train.shape[1],)), # 1ª camada oculta\n",
        "    tf.keras.layers.Dense(8, activation='relu'),  # 2ª camada oculta\n",
        "    tf.keras.layers.Dense(3, activation='softmax') # Camada de saída (3 classes)\n",
        "])\n",
        "\n",
        "# Compilar o modelo\n",
        "model.compile(optimizer='adam',\n",
        "              loss='sparse_categorical_crossentropy',\n",
        "              metrics=['accuracy'])\n"
      ],
      "metadata": {
        "id": "aCVVwQx_1mtB"
      },
      "execution_count": null,
      "outputs": []
    },
    {
      "cell_type": "code",
      "source": [
        "# Passo 4: Treinar o Modelo\n",
        "history = model.fit(X_train, y_train, epochs=50, validation_data=(X_test, y_test))\n"
      ],
      "metadata": {
        "id": "PdPscD0t1twQ"
      },
      "execution_count": null,
      "outputs": []
    },
    {
      "cell_type": "code",
      "source": [
        "# Passo 5: Avaliar o Modelo\n",
        "loss, accuracy = model.evaluate(X_test, y_test)\n",
        "print(f\"Acurácia no conjunto de teste: {accuracy*100:.2f}%\")\n"
      ],
      "metadata": {
        "id": "Yfbxftby10uR"
      },
      "execution_count": null,
      "outputs": []
    },
    {
      "cell_type": "code",
      "source": [
        "# Passo 6: Fazer Previsões\n",
        "predictions = model.predict(X_test)\n",
        "\n",
        "# As previsões vêm em probabilidades, vamos converter para a classe\n",
        "predicted_classes = predictions.argmax(axis=1)\n",
        "\n",
        "print(\"Classes previstas:\", predicted_classes[:10])\n",
        "print(\"Classes reais:   \", y_test[:10])\n"
      ],
      "metadata": {
        "colab": {
          "base_uri": "https://localhost:8080/"
        },
        "id": "MDQlmXI418WQ",
        "outputId": "e7243a37-6231-4e13-c55d-88ececbce9a1"
      },
      "execution_count": 7,
      "outputs": [
        {
          "output_type": "stream",
          "name": "stdout",
          "text": [
            "\u001b[1m1/1\u001b[0m \u001b[32m━━━━━━━━━━━━━━━━━━━━\u001b[0m\u001b[37m\u001b[0m \u001b[1m0s\u001b[0m 40ms/step\n",
            "Classes previstas: [2 0 2 2 2 0 1 2 1 1]\n",
            "Classes reais:    [1 0 2 1 1 0 1 2 1 1]\n"
          ]
        }
      ]
    }
  ]
}